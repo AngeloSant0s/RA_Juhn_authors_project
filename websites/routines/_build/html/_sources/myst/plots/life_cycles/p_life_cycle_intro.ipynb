{
 "cells": [
  {
   "cell_type": "markdown",
   "id": "bc7fa2be",
   "metadata": {},
   "source": [
    "# Life Cycle plottings\n",
    "\n",
    "In this routine we will plot the graphs related to authors life cycles for the [Library of Congress](https://www.loc.gov) and [New York Best sellers](https://www.nytimes.com/books/best-sellers/) datasets. We will plot two graphs:\n",
    "\n",
    "1. Probabilities of publishing\n",
    "2. Female male ratio of publishing probabilities\n",
    " \n",
    "These graphs will be ploted for three groups: All books, fiction and non fiction.\n",
    "\n",
    "## Packages needed"
   ]
  },
  {
   "cell_type": "code",
   "execution_count": 1,
   "id": "95c9982b",
   "metadata": {
    "tags": [
     "hide-cell"
    ]
   },
   "outputs": [],
   "source": [
    "import os \n",
    "import pandas as pd\n",
    "import seaborn as sns\n",
    "import p_func_life_cycle as plc\n",
    "from matplotlib import pyplot as plt"
   ]
  },
  {
   "cell_type": "markdown",
   "id": "36a67962",
   "metadata": {},
   "source": [
    "## To make our graphs looking good\n",
    "To make your graphs looking better, we will use some predefined settings. You can customize it as you want. These\n",
    "are our settings."
   ]
  },
  {
   "cell_type": "code",
   "execution_count": 2,
   "id": "4e195aae",
   "metadata": {
    "tags": [
     "hide-cell"
    ]
   },
   "outputs": [
    {
     "data": {
      "text/plain": [
       "<Figure size 3200x2400 with 0 Axes>"
      ]
     },
     "metadata": {},
     "output_type": "display_data"
    }
   ],
   "source": [
    "plt.rcParams['figure.dpi'] = 500\n",
    "plt.rcParams['savefig.dpi'] = 500\n",
    "sns.set_style('ticks')\n",
    "sns.despine(left=False, bottom=True)\n",
    "sns.set_context(\"paper\")"
   ]
  },
  {
   "cell_type": "markdown",
   "id": "d3ec1312",
   "metadata": {},
   "source": [
    "```{warning}\n",
    "**p_func_life_cycle** is a file with the [functions](functions) used through the routines.\n",
    "```\n",
    "\n",
    "(functions)=\n",
    "## Functions\n",
    "\n",
    "These are the set of functions used in the following routine"
   ]
  },
  {
   "cell_type": "code",
   "execution_count": 3,
   "id": "b39cb600",
   "metadata": {
    "tags": [
     "hide-input"
    ]
   },
   "outputs": [],
   "source": [
    "def lc_cohort(lc_frame , st = 1900, ed = 2000, size = 15):\n",
    "    \"\"\"\n",
    "    \n",
    "    This function creates the cohort variable for the life cycle data\n",
    "\n",
    "    Parameters\n",
    "    ----------\n",
    "    lc_frame : DataFrame\n",
    "        Life cycle dataframe\n",
    "    st : int, optional\n",
    "        Starting year of birth, by default 1900\n",
    "    ed : int, optional\n",
    "        Last year of birth, by default 2000\n",
    "    size : int, optional\n",
    "        Size of cohorts years window, by default 15\n",
    "\n",
    "    Returns\n",
    "    -------\n",
    "    DataFrame\n",
    "        The life cycle DataFrame with a colum that indicates the authors' cohort\n",
    "    \"\"\"\n",
    "    nb_co = int((ed-st)/size)\n",
    "    for c in range(nb_co):\n",
    "        start = st+ c*size\n",
    "        print(start)\n",
    "        end = st + (c+1)*size\n",
    "        print(end)\n",
    "        lc_frame['Cohort_'+str(start)[2:] +'_' + str(end)[2:]] = 0\n",
    "        lc_frame.loc[(lc_frame['birth_year'] >= start) & (lc_frame['birth_year'] < end), 'Cohort_'+str(start)[2:] +'_' + str(end)[2:]] = 1\n",
    "    return lc_frame\n",
    "\n",
    "\n",
    "\n",
    "def cohorts_fun(start,end,size):\n",
    "    \"\"\"\n",
    "    \n",
    "    This function creates two lists with labels and cohort variable\n",
    "\n",
    "    Parameters\n",
    "    ----------\n",
    "    start : int, optional\n",
    "        Starting year of birth, by default 1900\n",
    "    end : int, optional\n",
    "        Last year of birth, by default 2000\n",
    "    size : int, optional\n",
    "        Size of cohorts years window, by default 15\n",
    "\n",
    "\n",
    "    Returns\n",
    "    -------\n",
    "    coh and cys\n",
    "        two lists with labels and cohort variable\n",
    "    \"\"\"\n",
    "    coh = []\n",
    "    cys = []\n",
    "    for c in range(start,end,size):\n",
    "        co = 'Cohort_'+str(c)[2:]+'_'+str(c+size)[2:]\n",
    "        cy = str(c)+' - '+str(c+size)\n",
    "        cys.append(cy)\n",
    "        coh.append(co)\n",
    "    return coh, cys\n",
    "\n",
    "def coh_columns(data, coh, cys, cols, col_g_f, col_g_m, coh_all = []):\n",
    "    \"\"\"\n",
    "    \n",
    "    This function creates a data set with information based on the life cycle dataset\n",
    "\n",
    "    Parameters\n",
    "    ----------\n",
    "    data : DataFrame\n",
    "        dataset used to create the new Dataframe\n",
    "    coh : list\n",
    "        Column name for cohorts in the lifecycle dataset (e.g.: 'Cohort_35_50')\n",
    "    cys : list\n",
    "        Label for cohorts (e.g.: '1935 - 1950')\n",
    "    cols : list\n",
    "        columns where the information are seen in the lifecycle dataset\n",
    "    col_g_f : list\n",
    "        Colum for females \n",
    "    col_g_m : list\n",
    "        Colum for males \n",
    "    coh_all : list, optional\n",
    "        Empty list to append rows, by default []\n",
    "\n",
    "    Returns\n",
    "    -------\n",
    "    DataFrame\n",
    "        DataFrame with cohort level information \n",
    "    \"\"\"\n",
    "    for c, ch in enumerate(coh):\n",
    "        cohort = data.loc[data[ch] == 1].reset_index().drop('index', axis = 1)\n",
    "        cohort_male = len(cohort.loc[cohort['gender'] == 'male']['ID'].unique())\n",
    "        cohort_female = len(cohort.loc[cohort['gender'] == 'female']['ID'].unique())\n",
    "        cohort = cohort[['age','gender','published','qt_published','fic_and_nfic','fiction','non_fiction']]\n",
    "        cohort = cohort.groupby(['age','gender']).sum().reset_index()\n",
    "        cohort = cohort.loc[cohort['age'] >19]\n",
    "        life_coh = []\n",
    "        for age in range(20,cohort.age.max()+1):\n",
    "            sliced = cohort.loc[cohort['age'] == age].reset_index().drop('index', axis = 1)\n",
    "            dic = {}\n",
    "            dic['Age'] = age\n",
    "            for c_nb,col in enumerate(cols):\n",
    "                dic[col_g_f[c_nb]] = sliced.loc[sliced['gender'] == 'female'][col][0]/cohort_female\n",
    "            dic_m = {}\n",
    "            dic['Age'] = age\n",
    "            for c_nb,col in enumerate(cols):\n",
    "                dic[col_g_m[c_nb]] = sliced.loc[sliced['gender'] == 'male'][col][1]/cohort_male\n",
    "    #        for c_nb,col in enumerate(cols):\n",
    "    #           dic[col_g_r[c_nb]] = (cohort_male/cohort_female)*(sliced.loc[sliced['gender'] == 'female'][col][0]/sliced.loc[sliced['gender'] == 'male'][col][1])\n",
    "            dic['Cohort'] = cys[c]\n",
    "            life_coh.append(dic)\n",
    "        coh_all.append(pd.DataFrame(life_coh))\n",
    "    coh_all = pd.concat(coh_all, axis = 0).reset_index().drop('index',axis=1)\n",
    "    return coh_all"
   ]
  }
 ],
 "metadata": {
  "jupytext": {
   "cell_metadata_filter": "-all",
   "formats": "md:myst",
   "text_representation": {
    "extension": ".md",
    "format_name": "myst",
    "format_version": 0.13,
    "jupytext_version": "1.11.5"
   }
  },
  "kernelspec": {
   "display_name": "Python 3",
   "language": "python",
   "name": "python3"
  },
  "language_info": {
   "codemirror_mode": {
    "name": "ipython",
    "version": 3
   },
   "file_extension": ".py",
   "mimetype": "text/x-python",
   "name": "python",
   "nbconvert_exporter": "python",
   "pygments_lexer": "ipython3",
   "version": "3.9.13"
  },
  "source_map": [
   14,
   27,
   35,
   42,
   50,
   61
  ]
 },
 "nbformat": 4,
 "nbformat_minor": 5
}