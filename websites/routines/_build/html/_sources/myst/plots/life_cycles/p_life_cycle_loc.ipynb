{
 "cells": [
  {
   "cell_type": "markdown",
   "id": "99cd529e",
   "metadata": {},
   "source": [
    "# Library of Congress \n",
    "\n",
    "If you redo the past exercise using the sample of library of congress, this will be the result. \n",
    "\n",
    "## Plots for probabilities of publishing\n",
    "### Female and Male proobabilities of publishing\n",
    "\n",
    "Female and male probabilities, some examples.\n",
    "\n",
    "```{figure} ../../../images/life_cycle/loc/15y/female/female_prob_pub.png\n",
    "```\n",
    "```{figure} ../../../images/life_cycle/loc/15y/male/male_prob_pub.png\n",
    "```\n",
    "### Ratio\n",
    "They will look like this:\n",
    "\n",
    "```{figure} ../../../images/life_cycle/loc/15y/ratio_pub.png\n",
    "```\n",
    "\n",
    "### Female and Male proobabilities of publishing combined\n",
    "\n",
    "The combined graphs are the following\n",
    "\n",
    "```{figure} ../../../images/life_cycle/loc/15y/prob_combined_publication.png\n",
    "```\n",
    "```{figure} ../../../images/life_cycle/loc/15y/prob_combined_fiction.png\n",
    "```\n",
    "```{figure} ../../../images/life_cycle/loc/15y/prob_combined_non_fiction.png\n",
    "```"
   ]
  }
 ],
 "metadata": {
  "jupytext": {
   "cell_metadata_filter": "-all",
   "formats": "md:myst",
   "text_representation": {
    "extension": ".md",
    "format_name": "myst",
    "format_version": 0.13,
    "jupytext_version": "1.11.5"
   }
  },
  "kernelspec": {
   "display_name": "Python 3",
   "language": "python",
   "name": "python3"
  },
  "language_info": {
   "codemirror_mode": {
    "name": "ipython",
    "version": 3
   },
   "file_extension": ".py",
   "mimetype": "text/x-python",
   "name": "python",
   "nbconvert_exporter": "python",
   "pygments_lexer": "ipython3",
   "version": "3.9.13"
  },
  "source_map": [
   14
  ]
 },
 "nbformat": 4,
 "nbformat_minor": 5
}