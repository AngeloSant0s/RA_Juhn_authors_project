{
 "cells": [
  {
   "cell_type": "markdown",
   "id": "c7f9f85c",
   "metadata": {},
   "source": [
    "# NY best sellers life cycle graphs \n",
    "## Uploading the NY best sellers life cycle dataset"
   ]
  },
  {
   "cell_type": "code",
   "execution_count": 1,
   "id": "125255e7",
   "metadata": {
    "tags": [
     "hide-cell"
    ]
   },
   "outputs": [],
   "source": [
    "import os \n",
    "import pandas as pd\n",
    "import seaborn as sns\n",
    "import p_func_life_cycle as plc\n",
    "from matplotlib import pyplot as plt"
   ]
  },
  {
   "cell_type": "code",
   "execution_count": 2,
   "id": "a47df2aa",
   "metadata": {},
   "outputs": [],
   "source": [
    "os.chdir('/Users/angelosantos/Library/CloudStorage/OneDrive-SharedLibraries-UniversityOfHouston/Books Project - General/data/data_created/full_datasets/bs/authors/lifecycles')\n",
    "lfcy = pd.read_pickle('cre_life_cycle_bs.pkl')"
   ]
  },
  {
   "cell_type": "markdown",
   "id": "14795753",
   "metadata": {},
   "source": [
    "We want to plot the probability of publishing a book for female and male in their respective cohorts. We will plot this using 15 years cohorts starting in 1920. To do it, we will create a dummy variable for each cohort."
   ]
  },
  {
   "cell_type": "code",
   "execution_count": 3,
   "id": "bbb39368",
   "metadata": {},
   "outputs": [
    {
     "name": "stdout",
     "output_type": "stream",
     "text": [
      "1920\n",
      "1935\n",
      "1935\n",
      "1950\n",
      "1950\n",
      "1965\n",
      "1965\n",
      "1980\n",
      "1980\n",
      "1995\n"
     ]
    }
   ],
   "source": [
    "years = lfcy.groupby('ID').first().reset_index()\n",
    "years = years[['ID','year']].rename(columns = {'year':'birth_year'})\n",
    "lfcy = lfcy.merge(years, on='ID', how = 'left')\n",
    "\n",
    "start = 1920\n",
    "end = 1995\n",
    "size = 15\n",
    "lfcy = plc.lc_cohort(lfcy, size = size, st = start, ed = end)"
   ]
  },
  {
   "cell_type": "markdown",
   "id": "797a1632",
   "metadata": {},
   "source": [
    "Now, save the file"
   ]
  },
  {
   "cell_type": "code",
   "execution_count": 4,
   "id": "156344c9",
   "metadata": {
    "tags": [
     "hide-output"
    ]
   },
   "outputs": [],
   "source": [
    "os.chdir('/Users/angelosantos/Library/CloudStorage/OneDrive-SharedLibraries-UniversityOfHouston/Books Project - General/data/data_created/full_datasets/bs/authors/lifecycles')\n",
    "lfcy.to_pickle('cre_life_cycle_bs_'+str(size)+'y.pkl')"
   ]
  },
  {
   "cell_type": "markdown",
   "id": "e83b43f7",
   "metadata": {},
   "source": [
    "## Creting Dummies for the cohorts of birth\n",
    "\n",
    "Using the dummies that we created, we will define a simple function that we will produce \n",
    "two lists.\n",
    "- coh: Label for the cohort\n",
    "- cys: Time window of the cohort\n",
    "    \n",
    "You can see them in the output"
   ]
  },
  {
   "cell_type": "code",
   "execution_count": 5,
   "id": "323e43eb",
   "metadata": {
    "tags": [
     "hide-output"
    ]
   },
   "outputs": [
    {
     "name": "stdout",
     "output_type": "stream",
     "text": [
      "['Cohort_20_35', 'Cohort_35_50', 'Cohort_50_65', 'Cohort_65_80', 'Cohort_80_95'] ['1920 - 1935', '1935 - 1950', '1950 - 1965', '1965 - 1980', '1980 - 1995']\n"
     ]
    }
   ],
   "source": [
    "def cohorts_fun(start,end,size):\n",
    "    coh = []\n",
    "    cys = []\n",
    "    for c in range(start,end,size):\n",
    "        co = 'Cohort_'+str(c)[2:]+'_'+str(c+size)[2:]\n",
    "        cy = str(c)+' - '+str(c+size)\n",
    "        cys.append(cy)\n",
    "        coh.append(co)\n",
    "    return coh, cys\n",
    "\n",
    "coh, cys = cohorts_fun(start,end,size)\n",
    "print(coh,cys)"
   ]
  },
  {
   "cell_type": "markdown",
   "id": "6d16856b",
   "metadata": {},
   "source": [
    "## Creating the plotting dataset\n",
    "We will use this in our plotting code. Now, define the columns for our plots, these are \n",
    "different life cycle plots that we can produce. We will plot the following for both men \n",
    "and women:\n",
    "  - Probability of publishing\n",
    "  - Probability of publishing fiction\n",
    "  - Probability of publishing non fiction\n",
    "  - Ratio of publishing\n",
    "  - Ratio of fiction\n",
    "  - Ratio of non fiction\n",
    "\n",
    "The probabilities are defined as:\n",
    "\n",
    "```{warning}\n",
    "include math here \n",
    "```\n",
    "\n",
    "The ratio can be obtained by dividing female probability by male probability\n",
    "\n",
    "Let's define the columns.\n",
    "\n",
    "```{code-block}\n",
    "coh_all = []\n",
    "\n",
    "cols = ['published','qt_published','fiction','non_fiction']\n",
    "\n",
    "col_g_f = ['Female probability of publishing',\n",
    "            'Female probability of publishing more than one',\n",
    "            'Female probability of publishing fiction',\n",
    "            'Female probability of publishing non fiction']\n",
    "\n",
    "col_g_m = ['Male probability of publishing', \n",
    "            'Male probability of publishing more than one',\n",
    "            'Male probability of publishing fiction',\n",
    "            'Male probability of publishing non fiction']\n",
    "\n",
    "col_g_r = ['Ratio publishing',\n",
    "            'Ratio quantity',\n",
    "            'Ratio Fiction',\n",
    "            'Ratio Non Fiction']\n",
    "```\n",
    "\n",
    "Now we will use a function that calculate all the probabilities and use them to obtain the ratios \n",
    "for each cohort.\n",
    "\n",
    "```{code-block}\n",
    "coh_all = plc.coh_columns(data = lfcy, coh = coh,\n",
    "                         cys = cys, cols = cols,\n",
    "                         col_g_f = col_g_f,\n",
    "                         col_g_m = col_g_m)\n",
    "\n",
    "coh_all['Ratio publishing'] = coh_all['Female probability of publishing']/coh_all['Male probability of publishing']\n",
    "coh_all['Ratio Fiction'] = coh_all['Female probability of publishing fiction']/coh_all['Male probability of publishing fiction']\n",
    "coh_all['Ratio Non Fiction'] = coh_all['Female probability of publishing non fiction']/coh_all['Male probability of publishing non fiction']\n",
    "```\n",
    "\n",
    "Now, we will clean a bit the data and average the cohort observations using 5 years windowns (eg.: 20 - 25,...)\n",
    "\n",
    "```{code-block}\n",
    "coh_all = coh_all.loc[coh_all['Ratio publishing'].notna()]\n",
    "\n",
    "coh_all['Age Group'] = 0\n",
    "for ageg in range(20,85,5):\n",
    "    print(ageg)\n",
    "    coh_all.loc[(coh_all['Age'] >= ageg) & (coh_all['Age'] < ageg + 5), 'Age Group'] = ageg\n",
    "\n",
    "age_group = coh_all.groupby(['Age Group','Cohort']).mean().reset_index()\n",
    "age_group = age_group.loc[age_group['Ratio publishing'] != 0]\n",
    "```\n",
    "## Plotting the graphs\n",
    "### Female and Male proobabilities of publishing\n",
    "Now, we call plot all the graphs\n",
    "\n",
    "```{code-block}\n",
    "colors = ['Purples','Blues']\n",
    "for c,g in enumerate(['Female', 'Male']):\n",
    "    # PROBABILITY OF PUBLISHING\n",
    "    sns.lineplot(data=age_group, x=\"Age\", y= g +' probability of publishing', hue = 'Cohort', palette = colors[c] ).set(title = 'Published Books Life Cycle')\n",
    "    plt.legend(bbox_to_anchor=(1.05, 1), loc=0, borderaxespad=0., title = 'Cohort')\n",
    "    sns.despine(left=False, bottom=False)\n",
    "    os.chdir('/Users/angelosantos/Library/CloudStorage/OneDrive-SharedLibraries-UniversityOfHouston/Books Project - General/outputs/plots/life_cycles/bs/'+str(size)+'y/'+g.lower()+'/')\n",
    "    plt.savefig(g+' prob_pub.png',bbox_inches='tight')\n",
    "    plt.show()\n",
    "\n",
    "    # PROBABILITY OF PUBLISHING FICTION\n",
    "    sns.lineplot(data=age_group, x=\"Age\", y= g +' probability of publishing fiction', hue = 'Cohort', palette = colors[c] ).set(title = 'Published Books Life Cycle - Fiction')\n",
    "    plt.legend(bbox_to_anchor=(1.05, 1), loc=0, borderaxespad=0., title = 'Cohort')\n",
    "    sns.despine(left=False, bottom=False)\n",
    "    os.chdir('/Users/angelosantos/Library/CloudStorage/OneDrive-SharedLibraries-UniversityOfHouston/Books Project - General/outputs/plots/life_cycles/bs/'+str(size)+'y/'+g.lower()+'/')\n",
    "    plt.savefig(g+' prob_pub_fic.png', bbox_inches='tight')\n",
    "    plt.show()\n",
    "\n",
    "    # PROBABILITY OF PUBLISHING NON FICTION\n",
    "    sns.lineplot(data=age_group, x=\"Age\", y= g +' probability of publishing non fiction', hue = 'Cohort', palette = colors[c] ).set(title = 'Published Books Life Cycle - Non Fiction')\n",
    "    plt.legend(bbox_to_anchor=(1.05, 1), loc=0, borderaxespad=0., title = 'Cohort')\n",
    "    sns.despine(left=False, bottom=False)\n",
    "    os.chdir('/Users/angelosantos/Library/CloudStorage/OneDrive-SharedLibraries-UniversityOfHouston/Books Project - General/outputs/plots/life_cycles/bs/'+str(size)+'y/'+g.lower()+'/')\n",
    "    plt.savefig(g+' prob_pub_nfic.png',bbox_inches='tight')\n",
    "    plt.show()\n",
    "```\n",
    "\n",
    "The code above plots the female and male probabilities, here are some examples.\n",
    "\n",
    "```{figure} ../../../images/life_cycle/bs/female/female_prob_pub.png\n",
    "```\n",
    "```{figure} ../../../images/life_cycle/bs/male/male_prob_pub.png\n",
    "```\n",
    "### Ratio\n",
    "Now, we can plot the ratios\n",
    "\n",
    "```{code-block}\n",
    "sns.lineplot(data=age_group, x=\"Age\", y= 'Ratio publishing', hue = 'Cohort', palette = 'Greys' ).set(title = 'Ratio books Life Cycle')\n",
    "plt.legend(bbox_to_anchor=(1.05, 1), loc=0, borderaxespad=0., title = 'Cohort')\n",
    "os.chdir('/Users/angelosantos/Library/CloudStorage/OneDrive-SharedLibraries-UniversityOfHouston/Books Project - General/outputs/plots/life_cycles/bs/'+str(size)+'y/')\n",
    "plt.savefig('ratio_pub.png',bbox_inches='tight')\n",
    "plt.show()\n",
    "\n",
    "sns.lineplot(data=age_group, x=\"Age\", y= 'Ratio Fiction', hue = 'Cohort', palette = 'Greys' ).set(title = 'Ratio for Fiction - Life Cycle')\n",
    "plt.legend(bbox_to_anchor=(1.05, 1), loc=0, borderaxespad=0., title = 'Cohort')\n",
    "sns.despine(left=False, bottom=False)\n",
    "os.chdir('/Users/angelosantos/Library/CloudStorage/OneDrive-SharedLibraries-UniversityOfHouston/Books Project - General/outputs/plots/life_cycles/bs/'+str(size)+'y/')\n",
    "plt.savefig('ratio_fic.png',bbox_inches='tight')\n",
    "plt.show()\n",
    "\n",
    "sns.lineplot(data=age_group, x=\"Age\", y= 'Ratio Non Fiction', hue = 'Cohort', palette = 'Greys' ).set(title = 'Ratio for Non Fiction - Life Cycle')\n",
    "plt.legend(bbox_to_anchor=(1.05, 1), loc=0, borderaxespad=0., title = 'Cohort')\n",
    "sns.despine(left=False, bottom=False)\n",
    "os.chdir('/Users/angelosantos/Library/CloudStorage/OneDrive-SharedLibraries-UniversityOfHouston/Books Project - General/outputs/plots/life_cycles/bs/'+str(size)+'y/')\n",
    "plt.savefig('ratio_nfic.png',bbox_inches='tight')\n",
    "plt.show()\n",
    "\n",
    "```\n",
    "\n",
    "They will look like this:\n",
    "\n",
    "```{figure} ../../../images/life_cycle/bs/ratio_pub.png\n",
    "```\n",
    "\n",
    "### Female and Male proobabilities of publishing combined\n",
    "In conclusion, we can combine female and male probabilities in one graph.\n",
    "\n",
    "```{code-block}\n",
    "col_g_f = ['Female probability of publishing',\n",
    "            'Female probability of publishing fiction',\n",
    "            'Female probability of publishing non fiction']\n",
    "\n",
    "col_g_m = ['Male probability of publishing', \n",
    "            'Male probability of publishing fiction',\n",
    "            'Male probability of publishing non fiction']\n",
    "labels = ['publication','fiction','non_fiction']\n",
    "\n",
    "age_group['Cohort_f'] = age_group['Cohort']\n",
    "age_group['Cohort_m'] = age_group['Cohort']\n",
    "for cs in list(age_group['Cohort'].unique()):\n",
    "    print(cs)\n",
    "    print(cs[2:4])\n",
    "    print(cs[9:11])\n",
    "    age_group['Cohort_f'] = age_group['Cohort_f'].replace(cs,'Female ' + cs[2:4] +'-'+ cs[9:11])\n",
    "    age_group['Cohort_m'] = age_group['Cohort_m'].replace(cs,'Male ' + cs[2:4] +'-'+ cs[9:11])\n",
    "\n",
    "for i in range(3):\n",
    "    sns.lineplot(data=age_group, x=\"Age\", y=col_g_f[i], hue = 'Cohort_f', palette = 'Oranges' ).set(title = 'Authors Life Cycle - Probability of '+labels[col_g_f.index(col_g_f[i])])\n",
    "    plt.legend(bbox_to_anchor=(1.25, 1), loc=0, borderaxespad=0., title = 'Cohort')\n",
    "    sns.lineplot(data=age_group, x=\"Age\", y=col_g_m[i], hue = 'Cohort_m', palette = 'Blues' ).set(title = 'Authors Life Cycle - Probability of '+labels[col_g_f.index(col_g_f[i])].replace('_',' '), \\\n",
    "                ylabel = 'Probability of publishing')\n",
    "    plt.legend(bbox_to_anchor=(1.25, 1), loc=0, borderaxespad=0., title = 'Cohort')\n",
    "    sns.despine(left=False, bottom=False)\n",
    "    os.chdir('/Users/angelosantos/Library/CloudStorage/OneDrive-SharedLibraries-UniversityOfHouston/Books Project - General/outputs/plots/life_cycles/bs/'+str(size)+'y/')\n",
    "    plt.savefig('prob_combined_'+labels[col_g_f.index(col_g_f[i])]+'.png',bbox_inches='tight')\n",
    "    plt.show()\n",
    "```\n",
    "\n",
    "This will produce the following graphs\n",
    "\n",
    "```{figure} ../../../images/life_cycle/bs/prob_combined_publication.png\n",
    "```\n",
    "```{figure} ../../../images/life_cycle/bs/prob_combined_fiction.png\n",
    "```\n",
    "```{figure} ../../../images/life_cycle/bs/prob_combined_non_fiction.png\n",
    "```"
   ]
  }
 ],
 "metadata": {
  "jupytext": {
   "cell_metadata_filter": "-all",
   "formats": "md:myst",
   "text_representation": {
    "extension": ".md",
    "format_name": "myst",
    "format_version": 0.13,
    "jupytext_version": "1.11.5"
   }
  },
  "kernelspec": {
   "display_name": "Python 3",
   "language": "python",
   "name": "python3"
  },
  "language_info": {
   "codemirror_mode": {
    "name": "ipython",
    "version": 3
   },
   "file_extension": ".py",
   "mimetype": "text/x-python",
   "name": "python",
   "nbconvert_exporter": "python",
   "pygments_lexer": "ipython3",
   "version": "3.9.13"
  },
  "source_map": [
   14,
   19,
   28,
   31,
   35,
   44,
   48,
   53,
   64,
   79
  ]
 },
 "nbformat": 4,
 "nbformat_minor": 5
}